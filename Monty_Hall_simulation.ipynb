{
 "cells": [
  {
   "cell_type": "markdown",
   "metadata": {},
   "source": [
    "**motivation**<br>\n",
    "We simulate the famous <a href=\"https://en.wikipedia.org/wiki/Monty_Hall_problem\">Monty Hall problem</a> in this notebook."
   ]
  },
  {
   "cell_type": "code",
   "execution_count": 1,
   "metadata": {
    "collapsed": true
   },
   "outputs": [],
   "source": [
    "# number of doors\n",
    "N=1000"
   ]
  },
  {
   "cell_type": "code",
   "execution_count": 2,
   "metadata": {
    "collapsed": true
   },
   "outputs": [],
   "source": [
    "# assign N goats\n",
    "door_nbr=1:N\n",
    "prize=rep(\"G\",N)\n",
    "game=cbind(door_nbr,prize)\n",
    "game=data.frame(game)\n",
    "f=game$door_nbr\n",
    "game$door_nbr=as.integer(levels(f)[f])\n",
    "f=game$prize\n",
    "game$prize=as.character(levels(f)[f])"
   ]
  },
  {
   "cell_type": "code",
   "execution_count": 3,
   "metadata": {
    "collapsed": true
   },
   "outputs": [],
   "source": [
    "# randomly pick a door and replace the goat with a car\n",
    "car_door=sample(1:N,1)\n",
    "game$prize[car_door]=\"C\""
   ]
  },
  {
   "cell_type": "code",
   "execution_count": 4,
   "metadata": {
    "collapsed": true
   },
   "outputs": [],
   "source": [
    "# you pick a door\n",
    "pick=3"
   ]
  },
  {
   "cell_type": "code",
   "execution_count": 5,
   "metadata": {},
   "outputs": [],
   "source": [
    "# I let out N-2 goats\n",
    "rest=subset(game,door_nbr!=pick)\n",
    "rest_goat=subset(rest,prize==\"G\")\n",
    "if (length(rest_goat$door_nbr)==N-2) {\n",
    "  letout=rest_goat$door_nbr\n",
    "} else {\n",
    "  letout=sample(rest_goat$door_nbr,N-2, replace=F)}"
   ]
  },
  {
   "cell_type": "code",
   "execution_count": 6,
   "metadata": {},
   "outputs": [
    {
     "data": {
      "text/html": [
       "'G'"
      ],
      "text/latex": [
       "'G'"
      ],
      "text/markdown": [
       "'G'"
      ],
      "text/plain": [
       "[1] \"G\""
      ]
     },
     "metadata": {},
     "output_type": "display_data"
    }
   ],
   "source": [
    "# if you stick with your pick, you get\n",
    "game$prize[pick]"
   ]
  },
  {
   "cell_type": "code",
   "execution_count": 7,
   "metadata": {},
   "outputs": [
    {
     "data": {
      "text/html": [
       "'C'"
      ],
      "text/latex": [
       "'C'"
      ],
      "text/markdown": [
       "'C'"
      ],
      "text/plain": [
       "[1] \"C\""
      ]
     },
     "metadata": {},
     "output_type": "display_data"
    }
   ],
   "source": [
    "# if you switch to the other door, you get\n",
    "change=setdiff(rest$door_nbr,letout)\n",
    "game$prize[change]"
   ]
  },
  {
   "cell_type": "code",
   "execution_count": 8,
   "metadata": {},
   "outputs": [
    {
     "data": {
      "text/html": [
       "0.999"
      ],
      "text/latex": [
       "0.999"
      ],
      "text/markdown": [
       "0.999"
      ],
      "text/plain": [
       "[1] 0.999"
      ]
     },
     "metadata": {},
     "output_type": "display_data"
    }
   ],
   "source": [
    "# now play this game many times\n",
    "pick=1\n",
    "change=numeric(0)\n",
    "M=1000\n",
    "for (i in 1:M) {\n",
    "  # assign N goats\n",
    "  door_nbr=1:N\n",
    "  prize=rep(\"G\",N)\n",
    "  game=cbind(door_nbr,prize)\n",
    "  game=data.frame(game)\n",
    "  f=game$door_nbr\n",
    "  game$door_nbr=as.integer(levels(f)[f])\n",
    "  f=game$prize\n",
    "  game$prize=as.character(levels(f)[f])\n",
    "  # randomly pick a door and replace the goat with a car\n",
    "  car_door=sample(1:N,1)\n",
    "  game$prize[car_door]=\"C\"\n",
    "  # I let out N-2 goats\n",
    "  rest=subset(game,door_nbr!=pick)\n",
    "  rest_goat=subset(rest,prize==\"G\")\n",
    "  if (length(rest_goat$door_nbr)==N-2) {letout=rest_goat$door_nbr\n",
    "  } else {letout=sample(rest_goat$door_nbr,N-2, replace=F)}\n",
    "  change[i]=(game$prize[which(game$door_nbr==setdiff(rest$door_nbr,letout))]==\"C\")\n",
    "}\n",
    "sum(change)/M"
   ]
  },
  {
   "cell_type": "markdown",
   "metadata": {},
   "source": [
    "**discussion**<br>\n",
    "The way I like to think about this problem is this. Imagine watching the US Open Tennis Men's final. One finalist is Rafael Nadal, who makes it to the final after eliminating many rounds of opponents. The other finalist is me, who is guaranteed to play the final. Who do you think will win? Nadal corresponds to change, me corresponds to pick. It appears to be a random choice of one from two (hence many people's strong intuition of fifty fifty), but these two choices have very different histories: one survives many rounds of elimination, the other one is guaranteed to stay till the end!"
   ]
  }
 ],
 "metadata": {
  "kernelspec": {
   "display_name": "R",
   "language": "R",
   "name": "ir"
  },
  "language_info": {
   "codemirror_mode": "r",
   "file_extension": ".r",
   "mimetype": "text/x-r-source",
   "name": "R",
   "pygments_lexer": "r",
   "version": "3.4.0"
  }
 },
 "nbformat": 4,
 "nbformat_minor": 2
}
