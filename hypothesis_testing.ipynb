{
 "cells": [
  {
   "cell_type": "markdown",
   "metadata": {},
   "source": [
    "**motivation**<br>\n",
    "In this notebook we explain the basic idea of hypothesis testing. We will unpack questions such as \"what should the sample size be so that the power of the test is 90% under the true mean of 77, with a significance level at 5%?\". We follow Chapter 6 of <i>Introduction to Mathematical Statistics</i> by Robert Hogg and Allen Craig."
   ]
  },
  {
   "cell_type": "code",
   "execution_count": 1,
   "metadata": {},
   "outputs": [
    {
     "name": "stderr",
     "output_type": "stream",
     "text": [
      "Warning message:\n",
      "“package ‘repr’ was built under R version 3.4.4”"
     ]
    }
   ],
   "source": [
    "library(repr)\n",
    "# set plot size\n",
    "options(repr.plot.width=5, repr.plot.height=3)"
   ]
  },
  {
   "cell_type": "code",
   "execution_count": 2,
   "metadata": {
    "collapsed": true
   },
   "outputs": [],
   "source": [
    "# set up\n",
    "# One sample from normal distribution, with known variance but unknown mean\n",
    "mean=75  # in practice this is unknown\n",
    "sd=10"
   ]
  },
  {
   "cell_type": "markdown",
   "metadata": {},
   "source": [
    "**null hypothesis:** $mean\\leq75$<br>\n",
    "\n",
    "**alternative hypothesis:** $mean>75$<br>\n",
    "\n",
    "**which hypothesis to accept?**\n",
    "- use sampling to make a decision\n",
    "- need a rule to make decisions based on sampling outcome\n",
    "- such a rule is called a test of the null hypothesis against the alternative hypothesis"
   ]
  },
  {
   "cell_type": "markdown",
   "metadata": {},
   "source": [
    "**test 1**<br>\n",
    "sample 25 numbers, reject the null if and only if sample $mean > 75$<br>\n",
    "\n",
    "If $mean\\leq75$, what is the probability that $sample\\:mean > 75$ so we mistakenly reject the null?<br>\n",
    "sample mean follows $N(mean, sd/sqrt(25))$, therefore,<br>\n",
    "\n",
    "\\begin{align}\n",
    "&prob(sample\\:mean>75) \\\\\n",
    "&= prob(sample\\:mean - mean > 75 - mean) \\\\\n",
    "&= prob((sample\\:mean - mean)/(sd/sqrt(25)) > (75 - mean)/(sd/sqrt(25))) \\\\\n",
    "&= 1-pnorm((75 - mean)/(sd/sqrt(25))) \\\\\n",
    "\\end{align}<br>\n",
    "where $pnorm$ is the cumulative distribution function of the standard normal distribution in R."
   ]
  },
  {
   "cell_type": "code",
   "execution_count": 3,
   "metadata": {},
   "outputs": [
    {
     "data": {
      "text/html": [
       "0.5"
      ],
      "text/latex": [
       "0.5"
      ],
      "text/markdown": [
       "0.5"
      ],
      "text/plain": [
       "[1] 0.5"
      ]
     },
     "metadata": {},
     "output_type": "display_data"
    }
   ],
   "source": [
    "# define a function to calculate this probability as a function of cutoff and mean\n",
    "# this function is called the power function of the test\n",
    "# cutoff: cutoff value we use to make a decision, in test 1 this is 75\n",
    "# mean: true mean of the distribution\n",
    "# return: probability of rejecting the null using cutoff under mean\n",
    "k=function(cutoff, mean){\n",
    "  1-pnorm((cutoff - mean)/(sd/sqrt(25)))\n",
    "}\n",
    "k(75, 75)\n",
    "# it is too easy to reject the null when the null is true (type I error)\n",
    "# need to revise the test to make it harder to reject the null"
   ]
  },
  {
   "cell_type": "markdown",
   "metadata": {},
   "source": [
    "**test 2**<br>\n",
    "sample 25 numbers, reject the null if and only if sample mean > 78"
   ]
  },
  {
   "cell_type": "code",
   "execution_count": 4,
   "metadata": {},
   "outputs": [
    {
     "data": {
      "text/html": [
       "0.0668072012688581"
      ],
      "text/latex": [
       "0.0668072012688581"
      ],
      "text/markdown": [
       "0.0668072012688581"
      ],
      "text/plain": [
       "[1] 0.0668072"
      ]
     },
     "metadata": {},
     "output_type": "display_data"
    },
    {
     "data": {
      "text/html": [
       "0.308537538725987"
      ],
      "text/latex": [
       "0.308537538725987"
      ],
      "text/markdown": [
       "0.308537538725987"
      ],
      "text/plain": [
       "[1] 0.3085375"
      ]
     },
     "metadata": {},
     "output_type": "display_data"
    }
   ],
   "source": [
    "k(78, 75); # now it's hard to reject the null when the null is true\n",
    "k(78, 77) # but it is too hard to reject the null when the null is false (type II error)\n",
    "# the probability of rejecting the null when the null is false (mean = 77) is only 0.309"
   ]
  },
  {
   "cell_type": "markdown",
   "metadata": {},
   "source": [
    "**test 3**<br>\n",
    "can we find a balance? <br>\n",
    "sample $n$ numbers, reject the null if and only if $sample\\:mean > c$<br>\n",
    "need to determine $n$ and $c$ to keep $k(c, 75)$ low and $k(c, 77)$ high simultaneously<br>\n",
    "e.g. we want $k(c, 75)=0.159$ and $k(c, 77)=0.841$\n",
    "\\begin{align}\n",
    "k(c, 75)&=1-pnorm((c - 75)/(sd/sqrt(n))) \\\\\n",
    "k(c, 77)&=1-pnorm((c - 77)/(sd/sqrt(n))) \\\\\n",
    "\\end{align}<br>\n",
    "solving the two equations with two unknowns, we have $c=76$ and $n=100$."
   ]
  },
  {
   "cell_type": "code",
   "execution_count": 5,
   "metadata": {},
   "outputs": [
    {
     "data": {
      "text/html": [
       "0.158655253931457"
      ],
      "text/latex": [
       "0.158655253931457"
      ],
      "text/markdown": [
       "0.158655253931457"
      ],
      "text/plain": [
       "[1] 0.1586553"
      ]
     },
     "metadata": {},
     "output_type": "display_data"
    },
    {
     "data": {
      "text/html": [
       "0.841344746068543"
      ],
      "text/latex": [
       "0.841344746068543"
      ],
      "text/markdown": [
       "0.841344746068543"
      ],
      "text/plain": [
       "[1] 0.8413447"
      ]
     },
     "metadata": {},
     "output_type": "display_data"
    }
   ],
   "source": [
    "# Verify that k(c, 75)=0.159 and k(c, 77)=0.841\n",
    "c=76\n",
    "n=100\n",
    "1-pnorm((c-75)/(sd/sqrt(n)))\n",
    "1-pnorm((c-77)/(sd/sqrt(n)))"
   ]
  },
  {
   "cell_type": "markdown",
   "metadata": {},
   "source": [
    "**significance level**<br>\n",
    "probability of rejecting the null when the null is true: k(76, 75)=0.159<br>\n",
    "\n",
    "**power**<br>\n",
    "probability of rejecting the null when the alternative is true: k(76, 77)=0.841"
   ]
  },
  {
   "cell_type": "markdown",
   "metadata": {},
   "source": [
    "**relation between sample size and power, holding significance level fixed**<br>\n",
    "with $n=100$ and $c=76$, the significance level of our test is about 16%. for any sample size $n$, what should $c$ be so that the significance level is 5%?<br><br>\n",
    "$$k(c, 75)=1-pnorm((c-75)/(sd/sqrt(n)))=0.05$$\n",
    "solve for $c$,\n",
    "$$c=75+qnorm(0.95)(sd/sqrt(n))$$"
   ]
  },
  {
   "cell_type": "code",
   "execution_count": 6,
   "metadata": {},
   "outputs": [
    {
     "data": {
      "text/html": [
       "0.0499999999999999"
      ],
      "text/latex": [
       "0.0499999999999999"
      ],
      "text/markdown": [
       "0.0499999999999999"
      ],
      "text/plain": [
       "[1] 0.05"
      ]
     },
     "metadata": {},
     "output_type": "display_data"
    }
   ],
   "source": [
    "n=100\n",
    "c=75+qnorm(0.95)*(sd/sqrt(n))\n",
    "\n",
    "# verify that the significance level is indeed 5%\n",
    "1-pnorm((c-75)/(sd/sqrt(n)))"
   ]
  },
  {
   "cell_type": "markdown",
   "metadata": {},
   "source": [
    "what should n be so that the power of the test when mean=77 is 90%, with a significance level at 5%?<br><br>\n",
    "$$k(c,77)=1-pnorm((c-77)/(sd/sqrt(n)))=0.9$$<br>\n",
    "plugging $c=75+qnorm(0.95)(sd/sqrt(n))$ into the above question, solving for $n$, we have<br><br>\n",
    "$$n=(sd^2)*((qnorm(0.95)+qnorm(0.9))^2)/((77-75)^2)$$\n"
   ]
  },
  {
   "cell_type": "code",
   "execution_count": 7,
   "metadata": {},
   "outputs": [
    {
     "data": {
      "text/html": [
       "214.096183766699"
      ],
      "text/latex": [
       "214.096183766699"
      ],
      "text/markdown": [
       "214.096183766699"
      ],
      "text/plain": [
       "[1] 214.0962"
      ]
     },
     "metadata": {},
     "output_type": "display_data"
    }
   ],
   "source": [
    "# the required sample size is\n",
    "n=(sd^2)*((qnorm(0.95)+qnorm(0.9))^2)/((77-75)^2)\n",
    "n"
   ]
  },
  {
   "cell_type": "code",
   "execution_count": 8,
   "metadata": {},
   "outputs": [
    {
     "data": {
      "text/html": [
       "0.9025"
      ],
      "text/latex": [
       "0.9025"
      ],
      "text/markdown": [
       "0.9025"
      ],
      "text/plain": [
       "[1] 0.9025"
      ]
     },
     "metadata": {},
     "output_type": "display_data"
    }
   ],
   "source": [
    "# verify that with this sample size we indeed reject the null 90% of the time if mean=77\n",
    "mean=77\n",
    "sd=10\n",
    "M=10000\n",
    "sm=numeric(0)\n",
    "reject=numeric(0)\n",
    "for (i in 1:M) {\n",
    "  sample=rnorm(n,mean,sd)\n",
    "  sm[i]=mean(sample)\n",
    "  c=75+qnorm(0.95)*(sd/sqrt(n))\n",
    "  reject[i]=sm[i]>c\n",
    "}\n",
    "\n",
    "sum(reject)/M"
   ]
  },
  {
   "cell_type": "code",
   "execution_count": 9,
   "metadata": {},
   "outputs": [
    {
     "data": {
      "image/png": "[encoded data removed]",
      "text/plain": [
       "plot without title"
      ]
     },
     "metadata": {},
     "output_type": "display_data"
    }
   ],
   "source": [
    "# what is the relation between sample size and power, holding significance level fixed at 0.05, under true mean of 77?\n",
    "g=function(n){\n",
    "  1-pnorm((75+qnorm(0.95)*(sd/sqrt(n))-77)/(sd/sqrt(n)))\n",
    "}\n",
    "\n",
    "n=seq(25,500,1)\n",
    "plot(n,g(n))\n",
    "abline(v=214, col=\"blue\",lwd=1)\n",
    "abline(h=0.9, col=\"blue\",lwd=1)"
   ]
  }
 ],
 "metadata": {
  "kernelspec": {
   "display_name": "R",
   "language": "R",
   "name": "ir"
  },
  "language_info": {
   "codemirror_mode": "r",
   "file_extension": ".r",
   "mimetype": "text/x-r-source",
   "name": "R",
   "pygments_lexer": "r",
   "version": "3.4.0"
  }
 },
 "nbformat": 4,
 "nbformat_minor": 2
}
